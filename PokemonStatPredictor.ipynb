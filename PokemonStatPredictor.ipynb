{
  "nbformat": 4,
  "nbformat_minor": 0,
  "metadata": {
    "colab": {
      "name": "PokemonStatPredictor.ipynb",
      "provenance": [],
      "collapsed_sections": [],
      "authorship_tag": "ABX9TyMCbql7zXluql6ZLTnyMn5F",
      "include_colab_link": true
    },
    "kernelspec": {
      "name": "python3",
      "display_name": "Python 3"
    },
    "language_info": {
      "name": "python"
    }
  },
  "cells": [
    {
      "cell_type": "markdown",
      "metadata": {
        "id": "view-in-github",
        "colab_type": "text"
      },
      "source": [
        "<a href=\"https://colab.research.google.com/github/ST1LLWATER/TensorFlow-Pokemon-Course/blob/main/PokemonStatPredictor.ipynb\" target=\"_parent\"><img src=\"https://colab.research.google.com/assets/colab-badge.svg\" alt=\"Open In Colab\"/></a>"
      ]
    },
    {
      "cell_type": "code",
      "metadata": {
        "id": "EfP-7FUmmCFH"
      },
      "source": [
        "import tensorflow as tf\n",
        "from tensorflow import keras\n",
        "import numpy as np\n",
        "import pandas as pd\n",
        "import matplotlib.pyplot as plt\n",
        "from sklearn import preprocessing"
      ],
      "execution_count": 2,
      "outputs": []
    },
    {
      "cell_type": "code",
      "metadata": {
        "id": "-g5bd-i9maNG"
      },
      "source": [
        "df = pd.read_csv('/content/pokemon_alopez247.csv')"
      ],
      "execution_count": 3,
      "outputs": []
    },
    {
      "cell_type": "code",
      "metadata": {
        "id": "VEZgSJqmz9ye"
      },
      "source": [
        "df['isLegendary'] = df['isLegendary'].astype(int)\n"
      ],
      "execution_count": 5,
      "outputs": []
    },
    {
      "cell_type": "code",
      "metadata": {
        "id": "vRvUAp3m0DWJ"
      },
      "source": [
        "def dummy_creation(df, dummy_categories):\n",
        "    for i in dummy_categories:\n",
        "        df_dummy = pd.get_dummies(df[i])\n",
        "        df = pd.concat([df,df_dummy],axis=1)\n",
        "        df = df.drop(i, axis=1)\n",
        "    return(df)"
      ],
      "execution_count": 6,
      "outputs": []
    },
    {
      "cell_type": "code",
      "metadata": {
        "id": "vGNydrLH0j1U"
      },
      "source": [
        "df = dummy_creation(df, ['Egg_Group_1', 'Body_Style', 'Color','Type_1', 'Type_2'])\n"
      ],
      "execution_count": 7,
      "outputs": []
    },
    {
      "cell_type": "code",
      "metadata": {
        "id": "Djtd4EiH0wO5"
      },
      "source": [
        "def train_test_splitter(DataFrame, column):\n",
        "    df_train = DataFrame.loc[df[column] != 1]\n",
        "    df_test = DataFrame.loc[df[column] == 1]\n",
        "\n",
        "    df_train = df_train.drop(column, axis=1)\n",
        "    df_test = df_test.drop(column, axis=1)\n",
        "\n",
        "    return(df_train, df_test)\n",
        "\n",
        "df_train, df_test = train_test_splitter(df, 'Generation')"
      ],
      "execution_count": 8,
      "outputs": []
    },
    {
      "cell_type": "code",
      "metadata": {
        "id": "zJSajw161e47"
      },
      "source": [
        ""
      ],
      "execution_count": null,
      "outputs": []
    }
  ]
}